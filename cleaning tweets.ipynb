{
 "cells": [
  {
   "cell_type": "code",
   "execution_count": 1,
   "id": "c9387ad1",
   "metadata": {},
   "outputs": [],
   "source": [
    "#IMPORT necessary libraries\n",
    "import pandas as pd\n",
    "import numpy as np\n",
    "import openpyxl\n",
    "import matplotlib.pyplot as plt\n",
    "#import os\n",
    "import seaborn as sns\n",
    "import warnings\n",
    "warnings.filterwarnings(\"ignore\")"
   ]
  },
  {
   "cell_type": "code",
   "execution_count": 2,
   "id": "8eb447f6",
   "metadata": {},
   "outputs": [],
   "source": [
    "df= pd.read_csv('dataset - dataset01.csv')"
   ]
  },
  {
   "cell_type": "code",
   "execution_count": 3,
   "id": "dfa46bd3",
   "metadata": {},
   "outputs": [
    {
     "data": {
      "text/plain": [
       "Index(['user_created_at', 'description', 'fast_followers_count',\n",
       "       'favourites_count', 'followers_count', 'friends_count',\n",
       "       'has_custom_timelines', 'translator', 'listed_count', 'location',\n",
       "       'media_count', 'user_name', 'possibly_sensitive', 'protected',\n",
       "       'screen_name', 'statuses_count', 'verified', 'user_id',\n",
       "       'conversation_id', 'full_text', 'reply_count', 'retweet_count',\n",
       "       'favorite_count', 'hashtags/0', 'hashtags/1', 'hashtags/2',\n",
       "       'hashtags/3', 'created_at', 'user_mentions1_id',\n",
       "       'user_mentions1_screen_name', 'user_mentions2_id',\n",
       "       'user_mentions2_screen_name', 'user_mentions3_id',\n",
       "       'user_mentions3_screen_name'],\n",
       "      dtype='object')"
      ]
     },
     "execution_count": 3,
     "metadata": {},
     "output_type": "execute_result"
    }
   ],
   "source": [
    "df.columns"
   ]
  },
  {
   "cell_type": "code",
   "execution_count": 4,
   "id": "9d11c4db",
   "metadata": {},
   "outputs": [],
   "source": [
    "#df['full_text'].astype(str)"
   ]
  },
  {
   "cell_type": "code",
   "execution_count": 5,
   "id": "6ce28f5e",
   "metadata": {},
   "outputs": [],
   "source": [
    "#df['full_text'].dtype"
   ]
  },
  {
   "cell_type": "code",
   "execution_count": 6,
   "id": "cae3e428",
   "metadata": {
    "scrolled": true
   },
   "outputs": [],
   "source": [
    "#print(df.dtypes)"
   ]
  },
  {
   "cell_type": "code",
   "execution_count": 4,
   "id": "44efcd22",
   "metadata": {},
   "outputs": [],
   "source": [
    "temp= df['full_text']"
   ]
  },
  {
   "cell_type": "code",
   "execution_count": 5,
   "id": "0017ad4a",
   "metadata": {},
   "outputs": [
    {
     "data": {
      "text/plain": [
       "'0       Quality #connectivity solutions enable E-healt...\\n1       Make sure your loved ones are protected with o...\\n2       Our #connectivity solutions will keep you conn...\\n3       New week, new opportunities, more productivity...\\n4       We wish you a fun-filled #Sunday with your lov...\\n                              ...                        \\n1609    attending a 3-day training at @bscrw, cloud co...\\n1610    @bscrw I m really happy with your Broadband In...\\n1611              @gracetandeamara and free modems?@bscrw\\n1612                                              #VALUE!\\n1613                                              #VALUE!\\nName: full_text, Length: 1614, dtype: object'"
      ]
     },
     "execution_count": 5,
     "metadata": {},
     "output_type": "execute_result"
    }
   ],
   "source": [
    "#Removing links\n",
    "import re\n",
    "\n",
    "temp = re.sub(r\"http\\S+\", \"\", str(temp))\n",
    "temp = re.sub(r\"www.\\S+\", \"\", str(temp))\n",
    "temp"
   ]
  },
  {
   "cell_type": "code",
   "execution_count": 6,
   "id": "ae4caac9",
   "metadata": {},
   "outputs": [
    {
     "data": {
      "text/plain": [
       "'0       Quality  solutions enable E-healt...\\n1       Make sure your loved ones are protected with o...\\n2       Our  solutions will keep you conn...\\n3       New week, new opportunities, more productivity...\\n4       We wish you a fun-filled  with your lov...\\n                              ...                        \\n1609    attending a 3-day training at , cloud co...\\n1610     I m really happy with your Broadband In...\\n1611               and free modems?\\n1612                                              !\\n1613                                              !\\nName: full_text, Length: 1614, dtype: object'"
      ]
     },
     "execution_count": 6,
     "metadata": {},
     "output_type": "execute_result"
    }
   ],
   "source": [
    "#Removing hashtags and mentions\n",
    "\n",
    "temp = re.sub(\"@[A-Za-z0-9_]+\",\"\", str(temp))\n",
    "temp = re.sub(\"#[A-Za-z0-9_]+\",\"\", str(temp))\n",
    "temp"
   ]
  },
  {
   "cell_type": "code",
   "execution_count": 7,
   "id": "4ad6797c",
   "metadata": {},
   "outputs": [
    {
     "data": {
      "text/plain": [
       "'0        uality  solutions enable   healt    1        ake sure your loved ones are protected with o    2        ur  solutions will keep you conn    3        ew week  new opportunities  more productivity    4        e wish you a fun filled  with your lov                                                              1609    attending a 3 day training at   cloud co    1610       m really happy with your  roadband  n    1611               and free modems  1612                                                1613                                                 ame  full text   ength  1614  dtype  object'"
      ]
     },
     "execution_count": 7,
     "metadata": {},
     "output_type": "execute_result"
    }
   ],
   "source": [
    "#Filtering non-alphanumeric characters\n",
    "temp = re.sub(\"[^a-z0-9]\",\" \", temp)\n",
    "temp"
   ]
  },
  {
   "cell_type": "code",
   "execution_count": 8,
   "id": "761e361d",
   "metadata": {},
   "outputs": [
    {
     "data": {
      "text/plain": [
       "['0',\n",
       " 'uality',\n",
       " 'solutions',\n",
       " 'enable',\n",
       " 'healt',\n",
       " '1',\n",
       " 'ake',\n",
       " 'sure',\n",
       " 'your',\n",
       " 'loved',\n",
       " 'ones',\n",
       " 'are',\n",
       " 'protected',\n",
       " 'with',\n",
       " 'o',\n",
       " '2',\n",
       " 'ur',\n",
       " 'solutions',\n",
       " 'will',\n",
       " 'keep',\n",
       " 'you',\n",
       " 'conn',\n",
       " '3',\n",
       " 'ew',\n",
       " 'week',\n",
       " 'new',\n",
       " 'opportunities',\n",
       " 'more',\n",
       " 'productivity',\n",
       " '4',\n",
       " 'e',\n",
       " 'wish',\n",
       " 'you',\n",
       " 'a',\n",
       " 'fun',\n",
       " 'filled',\n",
       " 'with',\n",
       " 'your',\n",
       " 'lov',\n",
       " '1609',\n",
       " 'attending',\n",
       " 'a',\n",
       " '3',\n",
       " 'day',\n",
       " 'training',\n",
       " 'at',\n",
       " 'cloud',\n",
       " 'co',\n",
       " '1610',\n",
       " 'm',\n",
       " 'really',\n",
       " 'happy',\n",
       " 'with',\n",
       " 'your',\n",
       " 'roadband',\n",
       " 'n',\n",
       " '1611',\n",
       " 'and',\n",
       " 'free',\n",
       " 'modems',\n",
       " '1612',\n",
       " '1613',\n",
       " 'ame',\n",
       " 'full',\n",
       " 'text',\n",
       " 'ength',\n",
       " '1614',\n",
       " 'dtype',\n",
       " 'object']"
      ]
     },
     "execution_count": 8,
     "metadata": {},
     "output_type": "execute_result"
    }
   ],
   "source": [
    "#Tokenization\n",
    "temp = temp.split()\n",
    "temp"
   ]
  },
  {
   "cell_type": "code",
   "execution_count": 9,
   "id": "5b65e08d",
   "metadata": {},
   "outputs": [
    {
     "data": {
      "text/plain": [
       "'0 uality solutions enable healt 1 ake sure your loved ones are protected with o 2 ur solutions will keep you conn 3 ew week new opportunities more productivity 4 e wish you fun filled with your lov 1609 attending 3 day training at cloud co 1610 m really happy with your roadband n 1611 free modems 1612 1613 ame full text ength 1614 dtype object'"
      ]
     },
     "execution_count": 9,
     "metadata": {},
     "output_type": "execute_result"
    }
   ],
   "source": [
    "#Stop words removal\n",
    "\n",
    "stopwords = [\"for\", \"on\", \"an\", \"a\", \"of\", \"and\", \"in\", \"the\", \"to\", \"from\"]\n",
    "\n",
    "temp = [w for w in temp if not w in stopwords]\n",
    "temp = \" \".join(word for word in temp)\n",
    "temp"
   ]
  },
  {
   "cell_type": "code",
   "execution_count": 16,
   "id": "dbe8db49",
   "metadata": {},
   "outputs": [],
   "source": [
    "df['full_text']= temp"
   ]
  },
  {
   "cell_type": "code",
   "execution_count": 18,
   "id": "f04cb0f7",
   "metadata": {},
   "outputs": [],
   "source": [
    "df.to_csv('prod.csv', index=False, encoding='utf-8')"
   ]
  },
  {
   "cell_type": "code",
   "execution_count": null,
   "id": "3c0137bc",
   "metadata": {},
   "outputs": [],
   "source": []
  }
 ],
 "metadata": {
  "kernelspec": {
   "display_name": "Python 3 (ipykernel)",
   "language": "python",
   "name": "python3"
  },
  "language_info": {
   "codemirror_mode": {
    "name": "ipython",
    "version": 3
   },
   "file_extension": ".py",
   "mimetype": "text/x-python",
   "name": "python",
   "nbconvert_exporter": "python",
   "pygments_lexer": "ipython3",
   "version": "3.9.12"
  }
 },
 "nbformat": 4,
 "nbformat_minor": 5
}
